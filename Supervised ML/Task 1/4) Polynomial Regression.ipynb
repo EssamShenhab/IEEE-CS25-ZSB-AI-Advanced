{
 "cells": [
  {
   "cell_type": "markdown",
   "metadata": {
    "id": "Dz2Bb7vBWf7N"
   },
   "source": [
    "Exercise: Polynomial Regression\n",
    "\n",
    "Get some practice implementing polynomial regression in this exercise. In data.csv, you can see data generated for one predictor feature ('Var_X') and one outcome feature ('Var_Y'), following a non-linear trend. Use sklearn's PolynomialFeatures(opens in a new tab) class to extend the predictor feature column into multiple columns with polynomial features. Play around with different degrees of polynomial and the Test Run button to see what fits best: when you think you have the best-fitting degree, press the Submit button to check your work!\n",
    "\n",
    "Perform the following steps below:\n",
    "1. Load in the data\n",
    "\n",
    "The data is in the file called 'data.csv'. Note that this data has a header line.\n",
    "Make sure that you've split out the data into the predictor feature in X and outcome feature in y.\n",
    "For X, make sure it is in a 2-d array of 20 rows by 1 column. You might need to use NumPy's reshape(opens in a new tab) function to accomplish this.\n",
    "2. Create polynomial features\n",
    "\n",
    "Create an instance of sklearn's PolynomialFeatures(opens in a new tab) class and assign it to the variable poly_feat. Pay attention to how to set the degree of features, since that will be how the exercise is evaluated.\n",
    "Create the polynomial features by using the PolynomialFeatures object's .fit_transform()(opens in a new tab) method. The \"fit\" side of the method considers how many features are needed in the output, and the \"transform\" side applies those considerations to the data provided to the method as an argument. Assign the new feature matrix to the X_poly variable.\n",
    "3. Build a polynomial regression model\n",
    "\n",
    "Create a polynomial regression model by combining sklearn's LinearRegression(opens in a new tab) class with the polynomial features. Assign the fit model to poly_model."
   ]
  },
  {
   "cell_type": "code",
   "execution_count": 13,
   "metadata": {
    "id": "zpeNhx3FWeCR"
   },
   "outputs": [],
   "source": [
    "# TODO: Add import statements\n",
    "import numpy as np\n",
    "import pandas as pd\n",
    "from sklearn.linear_model import LinearRegression\n",
    "from sklearn.preprocessing import PolynomialFeatures"
   ]
  },
  {
   "cell_type": "code",
   "execution_count": 14,
   "metadata": {
    "id": "k3trftmkWeCU"
   },
   "outputs": [
    {
     "data": {
      "text/html": [
       "<div>\n",
       "<style scoped>\n",
       "    .dataframe tbody tr th:only-of-type {\n",
       "        vertical-align: middle;\n",
       "    }\n",
       "\n",
       "    .dataframe tbody tr th {\n",
       "        vertical-align: top;\n",
       "    }\n",
       "\n",
       "    .dataframe thead th {\n",
       "        text-align: right;\n",
       "    }\n",
       "</style>\n",
       "<table border=\"1\" class=\"dataframe\">\n",
       "  <thead>\n",
       "    <tr style=\"text-align: right;\">\n",
       "      <th></th>\n",
       "      <th>-0.72407</th>\n",
       "      <th>2.23863</th>\n",
       "    </tr>\n",
       "  </thead>\n",
       "  <tbody>\n",
       "    <tr>\n",
       "      <th>0</th>\n",
       "      <td>-2.40724</td>\n",
       "      <td>-0.00156</td>\n",
       "    </tr>\n",
       "    <tr>\n",
       "      <th>1</th>\n",
       "      <td>2.64837</td>\n",
       "      <td>3.01665</td>\n",
       "    </tr>\n",
       "    <tr>\n",
       "      <th>2</th>\n",
       "      <td>0.36092</td>\n",
       "      <td>2.31019</td>\n",
       "    </tr>\n",
       "    <tr>\n",
       "      <th>3</th>\n",
       "      <td>0.67312</td>\n",
       "      <td>2.05950</td>\n",
       "    </tr>\n",
       "    <tr>\n",
       "      <th>4</th>\n",
       "      <td>-0.45460</td>\n",
       "      <td>1.24736</td>\n",
       "    </tr>\n",
       "  </tbody>\n",
       "</table>\n",
       "</div>"
      ],
      "text/plain": [
       "   -0.72407  2.23863\n",
       "0  -2.40724 -0.00156\n",
       "1   2.64837  3.01665\n",
       "2   0.36092  2.31019\n",
       "3   0.67312  2.05950\n",
       "4  -0.45460  1.24736"
      ]
     },
     "execution_count": 14,
     "metadata": {},
     "output_type": "execute_result"
    }
   ],
   "source": [
    "# Assign the data to predictor and outcome variables\n",
    "# TODO: Load the data\n",
    "train_data = pd.read_csv('data.csv')\n",
    "train_data.head()"
   ]
  },
  {
   "cell_type": "code",
   "execution_count": 15,
   "metadata": {},
   "outputs": [],
   "source": [
    "X = np.array(train_data[[\"-0.72407\"]])\n",
    "y = np.array(train_data[[\"2.23863\"]])"
   ]
  },
  {
   "cell_type": "code",
   "execution_count": 16,
   "metadata": {
    "id": "-eura8xSWeCU"
   },
   "outputs": [],
   "source": [
    "# Create polynomial features\n",
    "# TODO: Create a PolynomialFeatures object, then fit and transform the\n",
    "# predictor feature\n",
    "poly_feat = PolynomialFeatures()\n",
    "X_poly = poly_feat.fit_transform(X)"
   ]
  },
  {
   "cell_type": "code",
   "execution_count": 17,
   "metadata": {
    "id": "oNVMw85aWeCV"
   },
   "outputs": [
    {
     "name": "stdout",
     "output_type": "stream",
     "text": [
      "Coefficients: [[0.         0.47861212 0.02572172]]\n",
      "Intercept: [1.93296414]\n"
     ]
    }
   ],
   "source": [
    "# Make and fit the polynomial regression model\n",
    "# TODO: Create a LinearRegression object and fit it to the polynomial predictor\n",
    "# features\n",
    "poly_model = LinearRegression().fit(X_poly, y)\n",
    "\n",
    "print(f\"Coefficients: {poly_model.coef_}\")\n",
    "print(f\"Intercept: {poly_model.intercept_}\")"
   ]
  }
 ],
 "metadata": {
  "colab": {
   "provenance": []
  },
  "kernelspec": {
   "display_name": "Python 3",
   "language": "python",
   "name": "python3"
  },
  "language_info": {
   "codemirror_mode": {
    "name": "ipython",
    "version": 3
   },
   "file_extension": ".py",
   "mimetype": "text/x-python",
   "name": "python",
   "nbconvert_exporter": "python",
   "pygments_lexer": "ipython3",
   "version": "3.8.10"
  }
 },
 "nbformat": 4,
 "nbformat_minor": 0
}
