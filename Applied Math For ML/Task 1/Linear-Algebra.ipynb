{
 "cells": [
  {
   "metadata": {},
   "cell_type": "markdown",
   "source": "**By:** *Ahmed Sharaf*"
  },
  {
   "metadata": {},
   "cell_type": "markdown",
   "source": [
    "In this notebook you will practice how to:\n",
    "1. Calculate the determinant of a 2x2 matrix with and without using numpy.linalg\n",
    "2. Calculate the determinant of a 3x3 matrix with and without using numpy.linalg\n",
    "3. Calculate the inverse of a 2x2 matrix using numpy.linalg\n",
    "4. Calculate the inverse of a 3x3 matrix using numpy.linalg\n",
    "5. Finding the rank of a matrix using numpy"
   ]
  },
  {
   "metadata": {},
   "cell_type": "markdown",
   "source": [
    "### Notice\n",
    "\n",
    "**Please Note:**  \n",
    "When writing code, make sure to place it in the designated area marked with `# code here`.  \n",
    "If there is a `pass` keyword in the code, please remove it and replace it with the required code."
   ]
  },
  {
   "metadata": {},
   "cell_type": "markdown",
   "source": "# Calculating the determinant using numpy.linalg"
  },
  {
   "metadata": {
    "ExecuteTime": {
     "end_time": "2025-02-13T05:00:26.614973Z",
     "start_time": "2025-02-13T05:00:25.068464Z"
    }
   },
   "cell_type": "code",
   "source": "import numpy as np",
   "outputs": [],
   "execution_count": 2
  },
  {
   "metadata": {
    "ExecuteTime": {
     "end_time": "2025-02-13T05:00:27.167707Z",
     "start_time": "2025-02-13T05:00:27.130926Z"
    }
   },
   "cell_type": "code",
   "source": [
    "a2 = np.array([[1,2],[3,4]])\n",
    "print(a2)"
   ],
   "outputs": [
    {
     "name": "stdout",
     "output_type": "stream",
     "text": [
      "[[1 2]\n",
      " [3 4]]\n"
     ]
    }
   ],
   "execution_count": 3
  },
  {
   "metadata": {
    "ExecuteTime": {
     "end_time": "2025-02-13T05:00:27.793720Z",
     "start_time": "2025-02-13T05:00:27.782980Z"
    }
   },
   "cell_type": "code",
   "source": [
    "a3 = np.array([[1,1,2],[2,3,1],[3,4,-5]])\n",
    "print(a3)"
   ],
   "outputs": [
    {
     "name": "stdout",
     "output_type": "stream",
     "text": [
      "[[ 1  1  2]\n",
      " [ 2  3  1]\n",
      " [ 3  4 -5]]\n"
     ]
    }
   ],
   "execution_count": 4
  },
  {
   "metadata": {
    "ExecuteTime": {
     "end_time": "2025-02-13T05:00:28.242149Z",
     "start_time": "2025-02-13T05:00:28.234628Z"
    }
   },
   "cell_type": "code",
   "source": [
    "## Determinate of a2, a3\n",
    "np.linalg.det(a2), np.linalg.det(a3)"
   ],
   "outputs": [
    {
     "data": {
      "text/plain": [
       "(-2.0000000000000004, -7.999999999999998)"
      ]
     },
     "execution_count": 5,
     "metadata": {},
     "output_type": "execute_result"
    }
   ],
   "execution_count": 5
  },
  {
   "metadata": {},
   "cell_type": "markdown",
   "source": "# Calculating the determinant of a 2x2 matrix without using numpy"
  },
  {
   "metadata": {
    "ExecuteTime": {
     "end_time": "2025-02-13T05:00:29.163143Z",
     "start_time": "2025-02-13T05:00:29.158229Z"
    }
   },
   "cell_type": "code",
   "source": [
    "def Det2(Mat):\n",
    "    return Mat[0][0]*Mat[1][1]-Mat[1][0]*Mat[0][1]\n",
    "\n",
    "print(Det2(a2))"
   ],
   "outputs": [
    {
     "name": "stdout",
     "output_type": "stream",
     "text": [
      "-2\n"
     ]
    }
   ],
   "execution_count": 6
  },
  {
   "metadata": {},
   "cell_type": "markdown",
   "source": [
    "# Calculating the determinant of a 3x3 matrixwithout using numpy\n",
    "\n",
    "One idea\n",
    "1. write a function to calculate the minor matrices. (hint, use slices)\n",
    "2. write a function to calculate the cofactors (this should call the first function, and the determinant function)\n",
    "3. the determinant function calls the function in step two and adds the results together.\n",
    "\n",
    "Another idea \n",
    "use recursion ==> code credit https://stackoverflow.com/questions/3819500/code-to-solve-determinant-using-python-without-using-scipy-linalg-det"
   ]
  },
  {
   "metadata": {
    "ExecuteTime": {
     "end_time": "2025-02-13T05:00:30.492711Z",
     "start_time": "2025-02-13T05:00:30.487011Z"
    }
   },
   "cell_type": "code",
   "source": [
    "# delete function removes a sub-array from the input array\n",
    "# first argument is the original array\n",
    "# second argument is the index to the sub-array to be removed\n",
    "# third argument is the axis among which the deletion happens (0: x axis \"row\" and 1: y axis \"column\")\n",
    "arr = np.array([[1,2,3,4], [5,6,7,8], [9,10,11,12]])\n",
    "print(arr)\n",
    "\n",
    "arr2 = np.delete(arr, 1, 0)\n",
    "print(arr2)\n",
    "\n",
    "arr3 = np.delete(arr, 3, 1)\n",
    "print(arr3)\n",
    "print(arr)"
   ],
   "outputs": [
    {
     "name": "stdout",
     "output_type": "stream",
     "text": [
      "[[ 1  2  3  4]\n",
      " [ 5  6  7  8]\n",
      " [ 9 10 11 12]]\n",
      "[[ 1  2  3  4]\n",
      " [ 9 10 11 12]]\n",
      "[[ 1  2  3]\n",
      " [ 5  6  7]\n",
      " [ 9 10 11]]\n",
      "[[ 1  2  3  4]\n",
      " [ 5  6  7  8]\n",
      " [ 9 10 11 12]]\n"
     ]
    }
   ],
   "execution_count": 7
  },
  {
   "metadata": {
    "ExecuteTime": {
     "end_time": "2025-02-13T05:10:43.327717Z",
     "start_time": "2025-02-13T05:10:43.318454Z"
    }
   },
   "cell_type": "code",
   "source": [
    "def minor(arr,i,j):\n",
    "    return np.delete(np.delete(arr, j, 1), i, 0)\n",
    "\n",
    "def det(arr):\n",
    "    n = arr.shape[0]\n",
    "\n",
    "    if n == 1:\n",
    "        return arr[0, 0]\n",
    "\n",
    "    if n == 2:\n",
    "        return arr[0][0]*arr[1][1]-arr[1][0]*arr[0][1]\n",
    "\n",
    "    if n == 3:\n",
    "        return (arr[0][0] * det(minor(arr, 0, 0)) -\n",
    "                arr[0][1] * det(minor(arr, 0, 1)) +\n",
    "                arr[0][2] * det(minor(arr, 0, 2)))\n",
    "\n",
    "\n",
    "print(a3)\n",
    "det(a3)"
   ],
   "outputs": [
    {
     "name": "stdout",
     "output_type": "stream",
     "text": [
      "[[ 1  1  2]\n",
      " [ 2  3  1]\n",
      " [ 3  4 -5]]\n"
     ]
    },
    {
     "data": {
      "text/plain": [
       "-8"
      ]
     },
     "execution_count": 17,
     "metadata": {},
     "output_type": "execute_result"
    }
   ],
   "execution_count": 17
  },
  {
   "metadata": {},
   "cell_type": "markdown",
   "source": "# Calculating the inverse using numpy.linalg"
  },
  {
   "metadata": {
    "ExecuteTime": {
     "end_time": "2025-02-13T05:14:40.310519Z",
     "start_time": "2025-02-13T05:14:40.303041Z"
    }
   },
   "cell_type": "code",
   "source": [
    "# The inverse of 2 x 2 matrix\n",
    "\n",
    "a2 = np.array([[1,2],[3,4]])\n",
    "\n",
    "print(a2)\n",
    "\n",
    "\n",
    "a2_inverse = np.linalg.inv(a2)\n",
    "print(a2_inverse)"
   ],
   "outputs": [
    {
     "name": "stdout",
     "output_type": "stream",
     "text": [
      "[[1 2]\n",
      " [3 4]]\n",
      "[[-2.   1. ]\n",
      " [ 1.5 -0.5]]\n"
     ]
    }
   ],
   "execution_count": 20
  },
  {
   "metadata": {
    "ExecuteTime": {
     "end_time": "2025-02-13T05:14:41.199549Z",
     "start_time": "2025-02-13T05:14:40.951010Z"
    }
   },
   "cell_type": "code",
   "source": [
    "# The inverse of a singular matrix\n",
    "\n",
    "a3 = np.array([[1,2],[2,4]])\n",
    "\n",
    "print(a3)\n",
    "\n",
    "a3_inverase = np.linalg.inv(a3)\n",
    "print(a3_inverase)"
   ],
   "outputs": [
    {
     "name": "stdout",
     "output_type": "stream",
     "text": [
      "[[1 2]\n",
      " [2 4]]\n"
     ]
    },
    {
     "ename": "LinAlgError",
     "evalue": "Singular matrix",
     "output_type": "error",
     "traceback": [
      "\u001B[0;31m---------------------------------------------------------------------------\u001B[0m",
      "\u001B[0;31mLinAlgError\u001B[0m                               Traceback (most recent call last)",
      "Cell \u001B[0;32mIn[21], line 7\u001B[0m\n\u001B[1;32m      3\u001B[0m a3 \u001B[38;5;241m=\u001B[39m np\u001B[38;5;241m.\u001B[39marray([[\u001B[38;5;241m1\u001B[39m,\u001B[38;5;241m2\u001B[39m],[\u001B[38;5;241m2\u001B[39m,\u001B[38;5;241m4\u001B[39m]])\n\u001B[1;32m      5\u001B[0m \u001B[38;5;28mprint\u001B[39m(a3)\n\u001B[0;32m----> 7\u001B[0m a3_inverase \u001B[38;5;241m=\u001B[39m \u001B[43mnp\u001B[49m\u001B[38;5;241;43m.\u001B[39;49m\u001B[43mlinalg\u001B[49m\u001B[38;5;241;43m.\u001B[39;49m\u001B[43minv\u001B[49m\u001B[43m(\u001B[49m\u001B[43ma3\u001B[49m\u001B[43m)\u001B[49m\n\u001B[1;32m      8\u001B[0m \u001B[38;5;28mprint\u001B[39m(a3_inverase)\n",
      "File \u001B[0;32m<__array_function__ internals>:200\u001B[0m, in \u001B[0;36minv\u001B[0;34m(*args, **kwargs)\u001B[0m\n",
      "File \u001B[0;32m~/.local/lib/python3.8/site-packages/numpy/linalg/linalg.py:538\u001B[0m, in \u001B[0;36minv\u001B[0;34m(a)\u001B[0m\n\u001B[1;32m    536\u001B[0m signature \u001B[38;5;241m=\u001B[39m \u001B[38;5;124m'\u001B[39m\u001B[38;5;124mD->D\u001B[39m\u001B[38;5;124m'\u001B[39m \u001B[38;5;28;01mif\u001B[39;00m isComplexType(t) \u001B[38;5;28;01melse\u001B[39;00m \u001B[38;5;124m'\u001B[39m\u001B[38;5;124md->d\u001B[39m\u001B[38;5;124m'\u001B[39m\n\u001B[1;32m    537\u001B[0m extobj \u001B[38;5;241m=\u001B[39m get_linalg_error_extobj(_raise_linalgerror_singular)\n\u001B[0;32m--> 538\u001B[0m ainv \u001B[38;5;241m=\u001B[39m \u001B[43m_umath_linalg\u001B[49m\u001B[38;5;241;43m.\u001B[39;49m\u001B[43minv\u001B[49m\u001B[43m(\u001B[49m\u001B[43ma\u001B[49m\u001B[43m,\u001B[49m\u001B[43m \u001B[49m\u001B[43msignature\u001B[49m\u001B[38;5;241;43m=\u001B[39;49m\u001B[43msignature\u001B[49m\u001B[43m,\u001B[49m\u001B[43m \u001B[49m\u001B[43mextobj\u001B[49m\u001B[38;5;241;43m=\u001B[39;49m\u001B[43mextobj\u001B[49m\u001B[43m)\u001B[49m\n\u001B[1;32m    539\u001B[0m \u001B[38;5;28;01mreturn\u001B[39;00m wrap(ainv\u001B[38;5;241m.\u001B[39mastype(result_t, copy\u001B[38;5;241m=\u001B[39m\u001B[38;5;28;01mFalse\u001B[39;00m))\n",
      "File \u001B[0;32m~/.local/lib/python3.8/site-packages/numpy/linalg/linalg.py:89\u001B[0m, in \u001B[0;36m_raise_linalgerror_singular\u001B[0;34m(err, flag)\u001B[0m\n\u001B[1;32m     88\u001B[0m \u001B[38;5;28;01mdef\u001B[39;00m\u001B[38;5;250m \u001B[39m\u001B[38;5;21m_raise_linalgerror_singular\u001B[39m(err, flag):\n\u001B[0;32m---> 89\u001B[0m     \u001B[38;5;28;01mraise\u001B[39;00m LinAlgError(\u001B[38;5;124m\"\u001B[39m\u001B[38;5;124mSingular matrix\u001B[39m\u001B[38;5;124m\"\u001B[39m)\n",
      "\u001B[0;31mLinAlgError\u001B[0m: Singular matrix"
     ]
    }
   ],
   "execution_count": 21
  },
  {
   "metadata": {
    "ExecuteTime": {
     "end_time": "2025-02-13T05:14:41.512251Z",
     "start_time": "2025-02-13T05:14:41.504361Z"
    }
   },
   "cell_type": "code",
   "outputs": [
    {
     "name": "stdout",
     "output_type": "stream",
     "text": [
      "[[ 0.17647059 -0.00326797 -0.02287582]\n",
      " [ 0.05882353 -0.13071895  0.08496732]\n",
      " [-0.11764706  0.1503268   0.05228758]]\n"
     ]
    }
   ],
   "execution_count": 22,
   "source": [
    "# The inverse of 3 x 3 matrix\n",
    "\n",
    "A = np.array([[6, 1, 1],\n",
    "              [4, -2, 5],\n",
    "              [2, 8, 7]])\n",
    "\n",
    "# Calculating the inverse of the matrix\n",
    "A_inverse = np.linalg.inv(A)\n",
    "print(A_inverse)"
   ]
  },
  {
   "metadata": {
    "ExecuteTime": {
     "end_time": "2025-02-13T05:14:42.152238Z",
     "start_time": "2025-02-13T05:14:42.147662Z"
    }
   },
   "cell_type": "code",
   "outputs": [
    {
     "name": "stdout",
     "output_type": "stream",
     "text": [
      "[[[-2.    1.  ]\n",
      "  [ 1.5  -0.5 ]]\n",
      "\n",
      " [[-1.25  0.75]\n",
      "  [ 0.75 -0.25]]]\n"
     ]
    }
   ],
   "execution_count": 23,
   "source": [
    "# Inverses of several matrices can\n",
    "# be computed at once\n",
    "\n",
    "A = np.array([[[1., 2.],\n",
    "               [3., 4.]],\n",
    "              [[1, 3],\n",
    "               [3, 5]]])\n",
    "\n",
    "# Calculating the inverse of the matrix\n",
    "A_inverse = np.linalg.inv(A)\n",
    "print(A_inverse)"
   ]
  },
  {
   "metadata": {},
   "cell_type": "markdown",
   "source": "# Calculating the inverse of a 2x2 matrixwithout using numpy"
  },
  {
   "metadata": {},
   "cell_type": "markdown",
   "source": [
    "1. Code a function to calculate the determinant of 2x2 matrix\n",
    "2. Code a function that interchange the diagonal elements of a 2x2 matrix and inverse the sign of the off diagonal elements\n",
    "3. Code a function to compute the inverse of 2x2 matrix based on the two previous functions if it exists"
   ]
  },
  {
   "metadata": {
    "ExecuteTime": {
     "end_time": "2025-02-13T05:14:44.062642Z",
     "start_time": "2025-02-13T05:14:44.057055Z"
    }
   },
   "cell_type": "code",
   "outputs": [
    {
     "name": "stdout",
     "output_type": "stream",
     "text": [
      "[[-2.   1. ]\n",
      " [ 1.5 -0.5]]\n"
     ]
    }
   ],
   "execution_count": 24,
   "source": [
    "#step -1- we already coded the det function that works for 2x2 and nxn size matrix\n",
    "\n",
    "\n",
    "#step -2-\n",
    "def interchangeMatrix(A):\n",
    "    return np.array([[A[1][1],-A[0][1]],\n",
    "                    [-A[1][0], A[0][0]]])\n",
    "\n",
    "#step -3-\n",
    "def inverse2x2(A):\n",
    "    return (1/Det2(A)) * interchangeMatrix(A)\n",
    "\n",
    "a2 = np.array([[1,2],[3,4]])\n",
    "print(inverse2x2(a2))"
   ]
  },
  {
   "metadata": {},
   "cell_type": "markdown",
   "source": "# Calculating the inverse of a 3x3 matrixwithout using numpy"
  },
  {
   "metadata": {},
   "cell_type": "markdown",
   "source": [
    "# Use the adjoint matrix method\n",
    "\n",
    "Coding a Python code to inverse a 3x3 matrix (no numpy.linalg.inv allowed):\n",
    "1. Coding a function that checks if a 3x3 matrix is invertible\n",
    "2. Coding a function that generates the transpose of a 3x3 matrix\n",
    "3. Coding a function that generates the matrix of minors of a 3x3 matrix\n",
    "4. Coding a function that generates the matrix of cofactors of a 3x3 matrix\n",
    "5. Coding a function that generates the inverse of a 3x3 matrix if it exists\n"
   ]
  },
  {
   "metadata": {},
   "cell_type": "markdown",
   "source": "# Finding the rank of a matrix using numpy"
  },
  {
   "metadata": {
    "ExecuteTime": {
     "end_time": "2025-02-13T05:32:59.329141Z",
     "start_time": "2025-02-13T05:32:59.316958Z"
    }
   },
   "cell_type": "code",
   "source": [
    "#step -1- a matrix is invertible only if its determinant != 0\n",
    "def invertible(A):\n",
    "    return det(A) != 0\n",
    "\n",
    "#step -2- rows and columns could be interchanged without the need of built-in methods\n",
    "def transposeM(A):\n",
    "    # a = A[0][0]\n",
    "    # b = A[0][1]\n",
    "    # c = A[0][2]\n",
    "    # d = A[1][0]\n",
    "    # e = A[1][1]\n",
    "    # f = A[1][2]\n",
    "    # g = A[2][0]\n",
    "    # h = A[2][1]\n",
    "    # i = A[2][2]\n",
    "    # return np.array([[a,d,g],\n",
    "    #                  [b,e,h],\n",
    "    #                  [c,f,i]])\n",
    "    return np.array([[A[j][i] for j in range(3)] for i in range(3)])\n",
    "\n",
    "#step -3- we coded that previously minor(arr,i,j)\n",
    "\n",
    "#step -4- Calculating the matrix of cofactors (minors determinants multiplied by signs)\n",
    "def cofactors(A):\n",
    "    # a = det(minor(A, 0, 0))\n",
    "    # b = det(minor(A, 0, 1))\n",
    "    # c = det(minor(A, 0, 2))\n",
    "    # d = det(minor(A, 1, 0))\n",
    "    # e = det(minor(A, 1, 1))\n",
    "    # f = det(minor(A, 1, 2))\n",
    "    # g = det(minor(A, 2, 0))\n",
    "    # h = det(minor(A, 2, 1))\n",
    "    # i = det(minor(A, 2, 2))\n",
    "    # return np.array([[a,b,c],\n",
    "    #                  [d,e,f],\n",
    "    #                  [g,h,i]])\n",
    "    return np.array([[((-1) ** (i + j)) * det(minor(A, i, j)) for j in range(3)] for i in range(3)])\n",
    "\n",
    "\n",
    "#step -5- Inverse is the transpose of the cofactor matrix divided by the determinant of the original/input matrix\n",
    "def inverse3x3(A):\n",
    "    return 1/det(A) * transposeM(cofactors(A))\n",
    "\n",
    "B = np.array([[6, 1, 1],\n",
    "              [4, -2, 5],\n",
    "              [2, 8, 7]])\n",
    "\n",
    "print(inverse3x3(B))\n",
    "\n",
    "#[ 0.17647059 -0.00326797 -0.02287582]\n",
    "# [ 0.05882353 -0.13071895  0.08496732]\n",
    "# [-0.11764706  0.1503268   0.05228758]]\n",
    "#check\n",
    "print(np.linalg.inv(B))"
   ],
   "outputs": [
    {
     "name": "stdout",
     "output_type": "stream",
     "text": [
      "[[ 0.17647059 -0.00326797 -0.02287582]\n",
      " [ 0.05882353 -0.13071895  0.08496732]\n",
      " [-0.11764706  0.1503268   0.05228758]]\n",
      "[[ 0.17647059 -0.00326797 -0.02287582]\n",
      " [ 0.05882353 -0.13071895  0.08496732]\n",
      " [-0.11764706  0.1503268   0.05228758]]\n"
     ]
    }
   ],
   "execution_count": 40
  },
  {
   "metadata": {
    "ExecuteTime": {
     "end_time": "2025-02-13T05:00:18.652850942Z",
     "start_time": "2025-02-11T20:46:55.672617Z"
    }
   },
   "cell_type": "code",
   "outputs": [
    {
     "data": {
      "text/plain": [
       "1"
      ]
     },
     "execution_count": 69,
     "metadata": {},
     "output_type": "execute_result"
    }
   ],
   "execution_count": 69,
   "source": [
    "a3 = np.array([[1,2],[2,4]])\n",
    "\n",
    "np.linalg.matrix_rank(a3)"
   ]
  }
 ],
 "metadata": {
  "kernelspec": {
   "display_name": "base",
   "language": "python",
   "name": "python3"
  },
  "language_info": {
   "codemirror_mode": {
    "name": "ipython",
    "version": 3
   },
   "file_extension": ".py",
   "mimetype": "text/x-python",
   "name": "python",
   "nbconvert_exporter": "python",
   "pygments_lexer": "ipython3",
   "version": "3.12.7"
  }
 },
 "nbformat": 4,
 "nbformat_minor": 4
}
