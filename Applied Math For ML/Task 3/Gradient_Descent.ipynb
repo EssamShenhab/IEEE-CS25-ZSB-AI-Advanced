{
 "cells": [
  {
   "cell_type": "markdown",
   "metadata": {},
   "source": [
    "# Linear Regression Using Gradient Descent\n",
    "\n",
    "## Problem Statement\n",
    "\n",
    "We need to implement a Python function that performs linear regression using gradient descent. The function should take the following inputs:\n",
    "\n",
    "- `X`: A NumPy array representing the feature matrix with a column of ones for the intercept.\n",
    "- `y`: A NumPy array representing the target values.\n",
    "- `alpha`: The learning rate for gradient descent.\n",
    "- `iterations`: The number of iterations to perform gradient descent.\n",
    "\n",
    "The function should return the coefficients of the linear regression model as a NumPy array, rounded to four decimal places.\n",
    "\n",
    "## Example\n",
    "\n",
    "**Input:**\n",
    "```python\n",
    "import numpy as np\n",
    "\n",
    "X = np.array([[1, 1], [1, 2], [1, 3]])\n",
    "y = np.array([1, 2, 3])\n",
    "alpha = 0.01\n",
    "iterations = 1000\n",
    "```\n",
    "\n",
    "**Output:**\n",
    "```python\n",
    "np.array([0.1107, 0.9513])"
   ]
  },
  {
   "metadata": {
    "ExecuteTime": {
     "end_time": "2025-02-19T13:18:52.528842Z",
     "start_time": "2025-02-19T13:18:52.523896Z"
    }
   },
   "cell_type": "code",
   "source": [
    "import numpy as np\n",
    "\n",
    "def linear_regression_gradient_descent(X: np.ndarray, y: np.ndarray, alpha: float, iterations: int) -> np.ndarray:\n",
    "    m, n = X.shape\n",
    "    theta = np.zeros((n, 1))\n",
    "    y = y.reshape(-1, 1)\n",
    "\n",
    "    for _ in range(iterations):\n",
    "        predictions = X @ theta\n",
    "        error = predictions - y\n",
    "        gradient = (1/m) * (X.T @ error)\n",
    "        theta -= alpha * gradient\n",
    "\n",
    "        # theta -= alpha * (1/m) * (X.T @ (X @ theta) - y)\n",
    "\n",
    "    return np.round(theta.flatten(), 4)"
   ],
   "outputs": [],
   "execution_count": 45
  },
  {
   "metadata": {
    "ExecuteTime": {
     "end_time": "2025-02-19T13:18:53.116885Z",
     "start_time": "2025-02-19T13:18:53.087005Z"
    }
   },
   "cell_type": "code",
   "source": [
    "X = np.array([[1, 1], [1, 2], [1, 3]])\n",
    "y = np.array([1, 2, 3])\n",
    "alpha = 0.01\n",
    "iterations = 1000\n",
    "\n",
    "linear_regression_gradient_descent(X, y, alpha, iterations)"
   ],
   "outputs": [
    {
     "data": {
      "text/plain": [
       "array([0.1107, 0.9513])"
      ]
     },
     "execution_count": 46,
     "metadata": {},
     "output_type": "execute_result"
    }
   ],
   "execution_count": 46
  }
 ],
 "metadata": {
  "language_info": {
   "name": "python"
  },
  "kernelspec": {
   "name": "python3",
   "language": "python",
   "display_name": "Python 3 (ipykernel)"
  }
 },
 "nbformat": 4,
 "nbformat_minor": 2
}
